{
  "nbformat": 4,
  "nbformat_minor": 0,
  "metadata": {
    "colab": {
      "provenance": []
    },
    "kernelspec": {
      "name": "python3",
      "display_name": "Python 3"
    },
    "accelerator": "GPU"
  },
  "cells": [
    {
      "cell_type": "code",
      "metadata": {
        "id": "PlcLFF7jHT0T",
        "colab": {
          "base_uri": "https://localhost:8080/",
          "height": 122
        },
        "outputId": "049e14fc-3d42-4770-c72f-5b8dbd3748b7"
      },
      "source": [
        "from google.colab import drive\n",
        "drive.mount('/content/drive')"
      ],
      "execution_count": null,
      "outputs": [
        {
          "output_type": "stream",
          "text": [
            "Go to this URL in a browser: https://accounts.google.com/o/oauth2/auth?client_id=947318989803-6bn6qk8qdgf4n4g3pfee6491hc0brc4i.apps.googleusercontent.com&redirect_uri=urn%3aietf%3awg%3aoauth%3a2.0%3aoob&response_type=code&scope=email%20https%3a%2f%2fwww.googleapis.com%2fauth%2fdocs.test%20https%3a%2f%2fwww.googleapis.com%2fauth%2fdrive%20https%3a%2f%2fwww.googleapis.com%2fauth%2fdrive.photos.readonly%20https%3a%2f%2fwww.googleapis.com%2fauth%2fpeopleapi.readonly\n",
            "\n",
            "Enter your authorization code:\n",
            "··········\n",
            "Mounted at /content/drive\n"
          ],
          "name": "stdout"
        }
      ]
    },
    {
      "cell_type": "code",
      "metadata": {
        "id": "4ww01wF3LGRj"
      },
      "source": [
        "import pandas as pd\n",
        "import numpy as np\n",
        "import tensorflow as tf\n",
        "from sklearn.model_selection import train_test_split\n",
        "\n",
        "data = pd.read_csv('/content/drive/My Drive/Datasets/Admission_Predict_Ver1.1.csv' )\n",
        "data.head()\n",
        "\n",
        "continuous_features = data[ ['GRE Score','TOEFL Score','University Rating','SOP','LOR ','CGPA'] ].values / 100 \n",
        "categorical_research_features = data[ [ 'Research' ] ].values \n",
        "\n",
        "X = np.concatenate( [ continuous_features , categorical_research_features ] , axis=1 )\n",
        "Y = data[ [ 'Chance of Admit ' ] ].values\n",
        "\n",
        "train_features , test_features ,train_labels, test_labels = train_test_split( X , Y , test_size=0.2 )\n",
        "\n",
        "X = tf.constant( train_features , dtype=tf.float32 )\n",
        "Y = tf.constant( train_labels , dtype=tf.float32 ) \n",
        "                                                          \n",
        "test_X = tf.constant( test_features , dtype=tf.float32 ) \n",
        "test_Y = tf.constant( test_labels , dtype=tf.float32 ) "
      ],
      "execution_count": null,
      "outputs": []
    },
    {
      "cell_type": "code",
      "metadata": {
        "id": "n0-EbZaRRyac"
      },
      "source": [
        "def mean_squared_error( Y , y_pred ):\n",
        "    return tf.reduce_mean( tf.square( y_pred - Y ) )\n",
        "\n",
        "def mean_squared_error_deriv( Y , y_pred ):\n",
        "    return tf.reshape( tf.reduce_mean( 2 * ( y_pred - Y ) ) , [ 1 , 1 ] )\n",
        "    \n",
        "def h ( X , weights , bias ):\n",
        "    return tf.tensordot( X , weights , axes=1 ) + bias"
      ],
      "execution_count": null,
      "outputs": []
    },
    {
      "cell_type": "code",
      "metadata": {
        "id": "ETI9AVwRR4tZ"
      },
      "source": [
        "num_epochs = 10\n",
        "num_samples = X.shape[0]\n",
        "batch_size = 10\n",
        "learning_rate = 0.001\n",
        "\n",
        "dataset = tf.data.Dataset.from_tensor_slices(( X , Y )) \n",
        "dataset = dataset.shuffle( 500 ).repeat( num_epochs ).batch( batch_size )\n",
        "iterator = dataset.__iter__()"
      ],
      "execution_count": null,
      "outputs": []
    },
    {
      "cell_type": "code",
      "metadata": {
        "id": "GAIUih7ER61t",
        "colab": {
          "base_uri": "https://localhost:8080/",
          "height": 187
        },
        "outputId": "1d969b86-d33c-463d-f9ed-15fd4fffce09"
      },
      "source": [
        "num_features = X.shape[1]\n",
        "weights = tf.random.normal( ( num_features , 1 ) ) \n",
        "bias = 0\n",
        "\n",
        "epochs_plot = list()\n",
        "loss_plot = list()\n",
        "\n",
        "for i in range( num_epochs ) :\n",
        "    \n",
        "    epoch_loss = list()\n",
        "    for b in range( int(num_samples/batch_size) ):\n",
        "        x_batch , y_batch = iterator.get_next()\n",
        "   \n",
        "        output = h( x_batch , weights , bias ) \n",
        "        loss = epoch_loss.append( mean_squared_error( y_batch , output ).numpy() )\n",
        "    \n",
        "        dJ_dH = mean_squared_error_deriv( y_batch , output)\n",
        "        dH_dW = x_batch\n",
        "        dJ_dW = tf.reduce_mean( dJ_dH * dH_dW )\n",
        "        dJ_dB = tf.reduce_mean( dJ_dH )\n",
        "    \n",
        "        weights -= ( learning_rate * dJ_dW )\n",
        "        bias -= ( learning_rate * dJ_dB ) \n",
        "        \n",
        "    loss = np.array( epoch_loss ).mean()\n",
        "    epochs_plot.append( i + 1 )\n",
        "    loss_plot.append( loss ) \n",
        "    \n",
        "    print( 'Loss is {}'.format( loss ) ) "
      ],
      "execution_count": null,
      "outputs": [
        {
          "output_type": "stream",
          "text": [
            "Loss is 0.7702389359474182\n",
            "Loss is 0.4782620072364807\n",
            "Loss is 0.33407044410705566\n",
            "Loss is 0.2625276446342468\n",
            "Loss is 0.22645056247711182\n",
            "Loss is 0.20736415684223175\n",
            "Loss is 0.19744399189949036\n",
            "Loss is 0.19240498542785645\n",
            "Loss is 0.18971900641918182\n",
            "Loss is 0.18779993057250977\n"
          ],
          "name": "stdout"
        }
      ]
    },
    {
      "cell_type": "code",
      "metadata": {
        "id": "nv6YD8V-R9e4",
        "colab": {
          "base_uri": "https://localhost:8080/",
          "height": 265
        },
        "outputId": "b04b447d-a9ec-4187-fca7-4bf33ad424dd"
      },
      "source": [
        "import matplotlib.pyplot as plt\n",
        "plt.plot( epochs_plot , loss_plot ) \n",
        "plt.show()"
      ],
      "execution_count": null,
      "outputs": [
        {
          "output_type": "display_data",
          "data": {
            "image/png": "[encoded data removed]",
            "text/plain": [
              "<Figure size 432x288 with 1 Axes>"
            ]
          },
          "metadata": {
            "tags": [],
            "needs_background": "light"
          }
        }
      ]
    },
    {
      "cell_type": "code",
      "metadata": {
        "id": "C0W3GSg1SAey"
      },
      "source": [],
      "execution_count": null,
      "outputs": []
    }
  ]
}