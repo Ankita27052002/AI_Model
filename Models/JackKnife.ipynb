{
  "nbformat": 4,
  "nbformat_minor": 0,
  "metadata": {
    "colab": {
      "provenance": []
    },
    "kernelspec": {
      "name": "python3",
      "display_name": "Python 3"
    },
    "language_info": {
      "name": "python"
    }
  },
  "cells": [
    {
      "cell_type": "code",
      "execution_count": null,
      "metadata": {
        "id": "eMv4JJR5Mkst"
      },
      "outputs": [],
      "source": [
        "import numpy as np"
      ]
    },
    {
      "cell_type": "code",
      "source": [
        "wrench_lengths = np.array([ 8.9143694 , 10.99734545, 10.2829785 ,  8.49370529,  9.42139975 ,11.65143654,\n",
        "  7.57332076,  9.57108737 ,11.26593626  ,9.1332596  , 9.32111385,  9.90529103,\n",
        " 11.49138963 , 9.361098   , 9.55601804  ,9.56564872 ,12.20593008 ,12.18678609,\n",
        " 11.0040539  ,10.3861864  ,10.73736858, 11.49073203 , 9.06416613 ,11.17582904,\n",
        "  8.74611933 , 9.3622485  ,10.9071052  , 8.5713193  , 9.85993128 , 9.1382451,\n",
        "  9.74438063 , 7.20141089 , 8.2284669  , 9.30012277 ,10.92746243,  9.82636432,\n",
        " 10.00284592 ,10.68822271 , 9.12046366 ,10.28362732,  9.19463348 , 8.27233051,\n",
        "  9.60910021 ,10.57380586 ,10.33858905 , 9.98816951 ,12.39236527 ,10.41291216,\n",
        " 10.97873601, 12.23814334 , 8.70591468 , 8.96121179 ,11.74371223 , 9.20193726,\n",
        " 10.02968323, 11.06931597 ,10.89070639 ,11.75488618 ,11.49564414 ,11.06939267,\n",
        "  9.22729129, 10.79486267 ,10.31427199 , 8.67373454 ,11.41729905 ,10.80723653,\n",
        " 10.04549008 , 9.76690794 , 8.80169886 ,10.19952407, 10.46843912 , 9.16884502,\n",
        " 11.16220405 , 8.90279695 , 7.87689965 ,11.03972709 , 9.59663396 , 9.87397041,\n",
        "  9.16248328 , 8.39403724 ,11.25523737 , 9.31113102 ,11.66095249 ,10.80730819,\n",
        "  9.68524185 , 8.9140976  , 9.26753801 , 8.78747687 ,12.08711336 ,10.16444123,\n",
        " 11.15020554 , 8.73264795 ,10.18103513 ,11.17786194  ,9.66498924 ,11.03111446,\n",
        "  8.91543209 , 8.63652846, 10.37940061 , 9.62082357])"
      ],
      "metadata": {
        "id": "LuyRmni7MpeK"
      },
      "execution_count": null,
      "outputs": []
    },
    {
      "cell_type": "code",
      "source": [
        "mean_lengths, n = [],len(wrench_lengths)"
      ],
      "metadata": {
        "id": "cE851kjVMubX"
      },
      "execution_count": null,
      "outputs": []
    },
    {
      "cell_type": "code",
      "source": [
        "index = np.arange(n)\n",
        "for i in range(n):\n",
        "  jk_sample = wrench_lengths[index != i]\n",
        "  mean_lengths.append(np.mean(jk_sample))\n",
        "\n",
        "mean_lengths_jk = np.mean(np.array(mean_lengths))\n",
        "print(\"JackKnife estimate of the mean = {}\".format(mean_lengths_jk))"
      ],
      "metadata": {
        "colab": {
          "base_uri": "https://localhost:8080/"
        },
        "id": "0vNbM9l3M21t",
        "outputId": "b9d9cc30-a4b2-415b-d0ed-3de5fbc46adc"
      },
      "execution_count": null,
      "outputs": [
        {
          "output_type": "stream",
          "name": "stdout",
          "text": [
            "JackKnife estimate of the mean = 10.027109074099998\n"
          ]
        }
      ]
    },
    {
      "cell_type": "code",
      "source": [
        "print(index)"
      ],
      "metadata": {
        "colab": {
          "base_uri": "https://localhost:8080/"
        },
        "id": "asHH8NI-NqwW",
        "outputId": "ae512433-b739-4c93-8c95-cd5874a8f4bd"
      },
      "execution_count": null,
      "outputs": [
        {
          "output_type": "stream",
          "name": "stdout",
          "text": [
            "[ 0  1  2  3  4  5  6  7  8  9 10 11 12 13 14 15 16 17 18 19 20 21 22 23\n",
            " 24 25 26 27 28 29 30 31 32 33 34 35 36 37 38 39 40 41 42 43 44 45 46 47\n",
            " 48 49 50 51 52 53 54 55 56 57 58 59 60 61 62 63 64 65 66 67 68 69 70 71\n",
            " 72 73 74 75 76 77 78 79 80 81 82 83 84 85 86 87 88 89 90 91 92 93 94 95\n",
            " 96 97 98 99]\n"
          ]
        }
      ]
    },
    {
      "cell_type": "code",
      "source": [
        "# median\n",
        "\n",
        "median_lengths = []\n",
        "for i in range(n):\n",
        "  jk_sample = wrench_lengths[index != i]\n",
        "  median_lengths.append(np.median(jk_sample))\n",
        "\n",
        "median_lengths = np.array(median_lengths)\n",
        "\n",
        "\n"
      ],
      "metadata": {
        "id": "BWpfuzbmNwfO"
      },
      "execution_count": null,
      "outputs": []
    },
    {
      "cell_type": "code",
      "source": [
        "# calculate jackknife estimate and it's variance\n",
        "jk_median_length = np.mean(median_lengths)\n",
        "jk_var = (n-1)*np.var(median_lengths)\n",
        "\n",
        "print(jk_median_length)"
      ],
      "metadata": {
        "colab": {
          "base_uri": "https://localhost:8080/"
        },
        "id": "bIHHDPIOPhZZ",
        "outputId": "ae1a43ec-9ad9-4770-addb-be20fb050ccf"
      },
      "execution_count": null,
      "outputs": [
        {
          "output_type": "stream",
          "name": "stdout",
          "text": [
            "9.946730270000003\n"
          ]
        }
      ]
    },
    {
      "cell_type": "code",
      "source": [
        "print(jk_var)"
      ],
      "metadata": {
        "colab": {
          "base_uri": "https://localhost:8080/"
        },
        "id": "cRS5RJmoPtrs",
        "outputId": "95e6e16b-addd-4794-efde-3393d4dcba26"
      },
      "execution_count": null,
      "outputs": [
        {
          "output_type": "stream",
          "name": "stdout",
          "text": [
            "0.17000385056598138\n"
          ]
        }
      ]
    },
    {
      "cell_type": "code",
      "source": [
        "jk_lower_ci = jk_median_length - 1.96*np.sqrt(jk_var)\n",
        "jk_upper_ci = jk_median_length + 1.96*np.sqrt(jk_var)\n",
        "\n",
        "print(\"JackKnife 95% CI lower = {}, upper = {}\".format(jk_lower_ci,jk_upper_ci))"
      ],
      "metadata": {
        "colab": {
          "base_uri": "https://localhost:8080/"
        },
        "id": "NhXbsyY-P0Hv",
        "outputId": "fae6d0a6-184e-49e5-f843-f92e8cb22f8e"
      },
      "execution_count": null,
      "outputs": [
        {
          "output_type": "stream",
          "name": "stdout",
          "text": [
            "JackKnife 95% CI lower = 9.138592415216381, upper = 10.754868124783625\n"
          ]
        }
      ]
    },
    {
      "cell_type": "code",
      "source": [],
      "metadata": {
        "id": "8KS0pLnGQe3J"
      },
      "execution_count": null,
      "outputs": []
    }
  ]
}