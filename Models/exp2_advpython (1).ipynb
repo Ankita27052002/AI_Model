{
  "nbformat": 4,
  "nbformat_minor": 0,
  "metadata": {
    "colab": {
      "provenance": []
    },
    "kernelspec": {
      "name": "python3",
      "display_name": "Python 3"
    },
    "language_info": {
      "name": "python"
    }
  },
  "cells": [
    {
      "cell_type": "markdown",
      "source": [
        "Experiment 2- Write the NumPy program to save a given array to text file and load it."
      ],
      "metadata": {
        "id": "aH42PEekv4iU"
      }
    },
    {
      "cell_type": "code",
      "execution_count": null,
      "metadata": {
        "id": "FCEHTsXvvLPz"
      },
      "outputs": [],
      "source": [
        "import numpy as np"
      ]
    },
    {
      "cell_type": "code",
      "source": [
        "from google.colab import drive \n",
        "drive.mount('/content/drive')\n"
      ],
      "metadata": {
        "colab": {
          "base_uri": "https://localhost:8080/"
        },
        "id": "ZNDBJnb4wQzs",
        "outputId": "47241757-2e92-4229-e745-488ff8a359a6"
      },
      "execution_count": null,
      "outputs": [
        {
          "output_type": "stream",
          "name": "stdout",
          "text": [
            "Drive already mounted at /content/drive; to attempt to forcibly remount, call drive.mount(\"/content/drive\", force_remount=True).\n"
          ]
        }
      ]
    },
    {
      "cell_type": "code",
      "source": [
        "# Creating 2D array\n",
        "List = [1, 2, 3, 4, 5, 6, 7, 8, 9]\n",
        "Array = np.array(List)"
      ],
      "metadata": {
        "id": "FeSqjb13xPSB"
      },
      "execution_count": null,
      "outputs": []
    },
    {
      "cell_type": "code",
      "source": [
        "# Displaying the array\n",
        "print('Array:\\n', Array)\n",
        " "
      ],
      "metadata": {
        "colab": {
          "base_uri": "https://localhost:8080/"
        },
        "id": "XwuWUGZ5wZK0",
        "outputId": "2903d3b3-6cf3-4d10-fbf8-f3af749dc8d8"
      },
      "execution_count": null,
      "outputs": [
        {
          "output_type": "stream",
          "name": "stdout",
          "text": [
            "Array:\n",
            " [1 2 3 4 5 6 7 8 9]\n"
          ]
        }
      ]
    },
    {
      "cell_type": "code",
      "source": [
        "# Saving the 2D array in a text file\n",
        "np.savetxt(\"file.txt\", Array)"
      ],
      "metadata": {
        "id": "sj_dCGFnweM7"
      },
      "execution_count": null,
      "outputs": []
    },
    {
      "cell_type": "code",
      "source": [
        "# Displaying the contents of the text file\n",
        "content = np.loadtxt('file.txt')\n",
        "print(\"\\nContent in file.txt:\\n\", content)"
      ],
      "metadata": {
        "colab": {
          "base_uri": "https://localhost:8080/"
        },
        "id": "A9s2LjyCwimG",
        "outputId": "9001fda4-1e87-4169-d845-18e0c81f0a44"
      },
      "execution_count": null,
      "outputs": [
        {
          "output_type": "stream",
          "name": "stdout",
          "text": [
            "\n",
            "Content in file.txt:\n",
            " [1. 2. 3. 4. 5. 6. 7. 8. 9.]\n"
          ]
        }
      ]
    },
    {
      "cell_type": "code",
      "source": [
        "np.savetxt(\"abc.txt\",Array,fmt=\"%d\",header=\"Roll_No\") "
      ],
      "metadata": {
        "id": "_ykR0t-YwnZz"
      },
      "execution_count": null,
      "outputs": []
    },
    {
      "cell_type": "code",
      "source": [
        "a=np.loadtxt(\"abc.txt\") "
      ],
      "metadata": {
        "id": "nrG1zhOSx_nq"
      },
      "execution_count": null,
      "outputs": []
    },
    {
      "cell_type": "code",
      "source": [
        "a"
      ],
      "metadata": {
        "colab": {
          "base_uri": "https://localhost:8080/"
        },
        "id": "rgqW2mxhyVqf",
        "outputId": "38983497-fd1b-4df3-ab4d-d64f9047596f"
      },
      "execution_count": null,
      "outputs": [
        {
          "output_type": "execute_result",
          "data": {
            "text/plain": [
              "array([1., 2., 3., 4., 5., 6., 7., 8., 9.])"
            ]
          },
          "metadata": {},
          "execution_count": 23
        }
      ]
    },
    {
      "cell_type": "markdown",
      "source": [
        "Exp 2.1- Store the pandas DataFrame data in text file\n"
      ],
      "metadata": {
        "id": "hIaog3feyam1"
      }
    },
    {
      "cell_type": "code",
      "source": [
        "import pandas as pd\n",
        "\n",
        "data = [1,2,3,4,5]\n",
        "#load data into a DataFrame object:\n",
        "df = pd.DataFrame(data)\n",
        "\n",
        "print(df) "
      ],
      "metadata": {
        "colab": {
          "base_uri": "https://localhost:8080/"
        },
        "id": "23sAYqGuyXfC",
        "outputId": "472afa18-8ee5-47db-c817-26e9aa2c26bb"
      },
      "execution_count": null,
      "outputs": [
        {
          "output_type": "stream",
          "name": "stdout",
          "text": [
            "   0\n",
            "0  1\n",
            "1  2\n",
            "2  3\n",
            "3  4\n",
            "4  5\n"
          ]
        }
      ]
    },
    {
      "cell_type": "code",
      "source": [
        "b = df.to_numpy()"
      ],
      "metadata": {
        "id": "KWL6Rs1U0TE2"
      },
      "execution_count": null,
      "outputs": []
    },
    {
      "cell_type": "code",
      "source": [
        "np.savetxt(\"abcd.txt\",b,fmt = \"%s\",header = \"Roll_no\")"
      ],
      "metadata": {
        "id": "G9qG0x0F0Xrq"
      },
      "execution_count": null,
      "outputs": []
    },
    {
      "cell_type": "code",
      "source": [
        "c = np.loadtxt(\"abcd.txt\")"
      ],
      "metadata": {
        "id": "qmgvcQUs0gzK"
      },
      "execution_count": null,
      "outputs": []
    },
    {
      "cell_type": "code",
      "source": [
        "c"
      ],
      "metadata": {
        "colab": {
          "base_uri": "https://localhost:8080/"
        },
        "id": "SfrmKSe51DXh",
        "outputId": "478c0dc8-53bd-49ec-8f28-87da005bd82f"
      },
      "execution_count": null,
      "outputs": [
        {
          "output_type": "execute_result",
          "data": {
            "text/plain": [
              "array([1., 2., 3., 4., 5.])"
            ]
          },
          "metadata": {},
          "execution_count": 32
        }
      ]
    }
  ]
}