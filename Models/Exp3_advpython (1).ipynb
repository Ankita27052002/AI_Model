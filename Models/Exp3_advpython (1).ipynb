{
  "nbformat": 4,
  "nbformat_minor": 0,
  "metadata": {
    "colab": {
      "provenance": []
    },
    "kernelspec": {
      "name": "python3",
      "display_name": "Python 3"
    },
    "language_info": {
      "name": "python"
    }
  },
  "cells": [
    {
      "cell_type": "markdown",
      "source": [
        "Experiment-3      Write a NumPy\n",
        "program to create a 3x3x3 array filled with arbitrary values\n",
        "\n"
      ],
      "metadata": {
        "id": "cujjBDzzwzCI"
      }
    },
    {
      "cell_type": "code",
      "execution_count": null,
      "metadata": {
        "id": "aXwXHDpowcOW"
      },
      "outputs": [],
      "source": [
        "import numpy as np\n"
      ]
    },
    {
      "cell_type": "code",
      "source": [
        "x = np.random.random((3, 3, 3))\n",
        "print(x)"
      ],
      "metadata": {
        "colab": {
          "base_uri": "https://localhost:8080/"
        },
        "id": "ANoXRY6vxAxf",
        "outputId": "3f04101b-848c-4b20-b0ea-13630ede46ed"
      },
      "execution_count": null,
      "outputs": [
        {
          "output_type": "stream",
          "name": "stdout",
          "text": [
            "[[[0.66937048 0.42899037 0.81063006]\n",
            "  [0.97605746 0.60722633 0.23626339]\n",
            "  [0.05075536 0.52329009 0.71276774]]\n",
            "\n",
            " [[0.36346016 0.07490787 0.55811319]\n",
            "  [0.43982685 0.70117994 0.03643763]\n",
            "  [0.3627834  0.22265892 0.58116654]]\n",
            "\n",
            " [[0.55241394 0.32733906 0.63703477]\n",
            "  [0.466425   0.07582841 0.85053286]\n",
            "  [0.42111342 0.92557869 0.32156031]]]\n"
          ]
        }
      ]
    },
    {
      "cell_type": "markdown",
      "source": [
        "Experimnet-4     Write a NumPy\n",
        "program to convert a given array into a list and then convert it into a list\n",
        "again."
      ],
      "metadata": {
        "id": "0T6BEQ9DxJNp"
      }
    },
    {
      "cell_type": "code",
      "source": [
        "import numpy as np"
      ],
      "metadata": {
        "id": "OacTiCY4xBxf"
      },
      "execution_count": null,
      "outputs": []
    },
    {
      "cell_type": "code",
      "source": [
        "a = [[1, 2], [3, 4]]\n",
        "x = np.array(a)"
      ],
      "metadata": {
        "id": "RaxLx6HRyMlK"
      },
      "execution_count": null,
      "outputs": []
    },
    {
      "cell_type": "code",
      "source": [
        "x"
      ],
      "metadata": {
        "colab": {
          "base_uri": "https://localhost:8080/"
        },
        "id": "xtxqvL29ykJm",
        "outputId": "dfe6af41-b573-451c-91c3-f3065d873808"
      },
      "execution_count": null,
      "outputs": [
        {
          "output_type": "execute_result",
          "data": {
            "text/plain": [
              "array([[1, 2],\n",
              "       [3, 4]])"
            ]
          },
          "metadata": {},
          "execution_count": 7
        }
      ]
    },
    {
      "cell_type": "code",
      "source": [
        "a2 = x.tolist()"
      ],
      "metadata": {
        "id": "9j89nPBjyUfK"
      },
      "execution_count": null,
      "outputs": []
    },
    {
      "cell_type": "code",
      "source": [
        "a2"
      ],
      "metadata": {
        "colab": {
          "base_uri": "https://localhost:8080/"
        },
        "id": "pIqMhNTeyZY-",
        "outputId": "aae1b845-cb51-4291-b5aa-cff09e95df62"
      },
      "execution_count": null,
      "outputs": [
        {
          "output_type": "execute_result",
          "data": {
            "text/plain": [
              "[[1, 2], [3, 4]]"
            ]
          },
          "metadata": {},
          "execution_count": 10
        }
      ]
    },
    {
      "cell_type": "code",
      "source": [],
      "metadata": {
        "id": "vjJUN63bydAX"
      },
      "execution_count": null,
      "outputs": []
    },
    {
      "cell_type": "code",
      "source": [],
      "metadata": {
        "id": "VM5sB8AZyt0z"
      },
      "execution_count": null,
      "outputs": []
    }
  ]
}